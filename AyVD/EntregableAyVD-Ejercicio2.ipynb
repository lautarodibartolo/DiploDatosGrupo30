{
 "cells": [
  {
   "cell_type": "markdown",
   "id": "5eae6d41",
   "metadata": {},
   "source": [
    "# Análisis y Visualización de Datos\n",
    "## Trabajo práctico entregable - Grupo 30: Di Bartolo, Madriaga y Tula\n",
    "---\n",
    "\n",
    "### Índice de contenido:\n",
    "* [Librerías externas](#Libs)\n",
    "* [Ejercicio 2](#Ejercicio2)\n",
    "    * [a) Densidad conjunta](#a)\n",
    "    * [b) Asociación](#b)\n",
    "    * [c) Densidad condicional](#c)\n",
    "    * [d) Densidad conjunta condicional](#d)"
   ]
  },
  {
   "cell_type": "markdown",
   "id": "7cb456b6",
   "metadata": {},
   "source": [
    "#### Librerías externas <a class=\"anchor\" id=\"Libs\"></a>\n",
    "---\n",
    "\n",
    "Empezamos cargando librerías que vamos a usar en la resolución del ejercicio."
   ]
  },
  {
   "cell_type": "code",
   "execution_count": null,
   "id": "fb5beca9",
   "metadata": {},
   "outputs": [],
   "source": [
    "import matplotlib.pyplot as plt\n",
    "import matplotlib.colors\n",
    "import pandas as pd\n",
    "import seaborn\n",
    "import math\n",
    "import numpy as np\n",
    "\n",
    "# Importamos también el dataframe tratado del Ejercicio 1\n",
    "df_clean = pd.read_csv(\"clean.csv\")"
   ]
  },
  {
   "cell_type": "markdown",
   "id": "5da7d276",
   "metadata": {},
   "source": [
    "### Ejercicio 2 - Densidades y varias variables <a class=\"anchor\" id=\"Ejercicio2\"></a>\n",
    "\n",
    "Responder a la pregunta general: **¿Qué herramientas (prácticas y teóricas) són útiles para explorar la base de datos, descubrir patrones, asociaciones?**"
   ]
  },
  {
   "cell_type": "markdown",
   "id": "5add7264",
   "metadata": {},
   "source": [
    "#### a) Densidad conjunta <a class=\"anchor\" id=\"a\"></a>\n",
    "\n",
    "¿Qué herramientas visuales y modelos puede utilizar para estudiar la distribución y comportamiento de sus datos? \n",
    "\n",
    "Elija tres variables numéricas y 2 variables categóricas. Visualice la base según varias de las variables elegidas. ¿Puede describir de alguna forma el comportamiento de sus datos? ¿Qué herramientas utilizaría? Describa.\n",
    "\n",
    "---"
   ]
  },
  {
   "cell_type": "markdown",
   "id": "c5955e88",
   "metadata": {},
   "source": [
    "Con el objetivo de estudiar la distribución y comportamiento de nuestros datos, emplearemos herramientas teórico-prácticas que nos brinda la **Estadística** y la **Probabilidad** tales como medidas de resumen, tablas y/o gráficos.\n",
    "\n",
    "Cuando mencionamos medidas de resumen nos referimos a:\n",
    "\n",
    "- La **media**, la cual desde un punto de vista aritmético corresponde a la suma de todas las observaciones dividido por el número total de datos.\n",
    "- La **moda**, en cambio, es el valor cuya frecuencia relativa es mayor (valor mas repetido del conjunto de datos).\n",
    "- La **mediana** es el valor del conjunto de datos tal que el 50% de los elementos son menores o iguales y el otro 50% son mayores o iguales.\n",
    "- Los **cuartiles** son 4 porciones de datos que resultan de ordenar los datos y dividirlos en 4 conjuntos de igual cardinalidad. Se usan frecuentemente para tratar de forma diferenciada a grupos de observaciones.\n",
    "- La **varianza** mide la dispersión de los datos respecto a la media. Numéricamente, corresponde a la media de los cuadrados de las distancias de todos los datos; se utiliza para cuantificar qué tan *centrados* estan los datos con respecto a la media.\n",
    "- La **desviación estandar** es otra medida de dispersión de los datos respecto a la media. Numéricamente corresponde a la raiz cuadrada de la varianza. Uno de su usos es la detección de outliers.\n",
    "\n",
    "\n",
    "En cuanto a las herramientas visuales podemos emplear de acuerdo al tipo de variable y comportamiento de nuestros datos:\n",
    "\n",
    "- Histogramas.\n",
    "- Gráfico de lineas.\n",
    "- Gráfico circular (Torta).\n",
    "- Dispersion.\n",
    "- Barras horizontales.\n",
    "- Boxplots o Diagramas de cajas.\n",
    "- Diagramas de calor. \n",
    "- Entre otros.\n",
    "\n",
    "Para la asociación de variables, si estas son categoricas empleamos las denominadas tablas de contingencia mientras que para las variables numericas empleamos la covarianza y correlacion."
   ]
  },
  {
   "cell_type": "markdown",
   "id": "228a67d1",
   "metadata": {},
   "source": [
    "Variables numéricas escogidas:\n",
    "\n",
    "- **salary_monthly_BRUTO**: salario antes de impuestos que recibe el empleado.\n",
    "- **salary_monthly_NETO**: salario luego de impuestos que recibe el empleado.\n",
    "- **profile_age**: edad de quien responde la encuesta.\n",
    "\n",
    "Variables categóricas escogidas:\n",
    "\n",
    "- **profile_gender**: género que autopercibe quien responde la encuesta.\n",
    "- **programming_language**: lenguaje de programación con el que trabaja quien responde la encuesta."
   ]
  },
  {
   "cell_type": "markdown",
   "id": "63cfaa19",
   "metadata": {},
   "source": [
    "##### Análisis de variables numéricas\n",
    "---\n",
    "\n",
    "**salary_monthly_BRUTO**: Lo primero que podemos hacer es visualizar la distribución de esta variable usando un histograma y después ver las medidas de resumen."
   ]
  },
  {
   "cell_type": "code",
   "execution_count": null,
   "id": "e7a0099d",
   "metadata": {},
   "outputs": [],
   "source": [
    "# Graficamos.\n",
    "fig = plt.subplots(figsize=(16, 8))\n",
    "plt.xlabel(\"Salario bruto mensual [AR$]\") # Renombramos el eje X.\n",
    "plt.ylabel(\"Frecuencia\") # Renombraos el eje Y.\n",
    "plt.xlim([0,500000])\n",
    "seaborn.histplot(df_clean['salary_monthly_BRUTO'], bins=100, color='#B87333')\n",
    "plt.show()"
   ]
  },
  {
   "cell_type": "markdown",
   "id": "c3789949",
   "metadata": {},
   "source": [
    "Al hacerlo notamos que hay algunos datos que parecen ser outliers y que deberíamos borrar de nuestro dataframe. Iterando vemos que quitando al 5% que menos gana y al 2% que más gana la distribución ya queda con una mejor forma."
   ]
  },
  {
   "cell_type": "code",
   "execution_count": null,
   "id": "73935d02",
   "metadata": {},
   "outputs": [],
   "source": [
    "# Quitando al 5% que menos gana.\n",
    "df_clean2 = df_clean[df_clean['salary_monthly_BRUTO'] > df_clean['salary_monthly_BRUTO'].quantile(5/100)]\n",
    "\n",
    "# Quitando al 2% que más gana.\n",
    "df_clean3 = df_clean2[df_clean2['salary_monthly_BRUTO'] < df_clean2['salary_monthly_BRUTO'].quantile(98/100)]\n",
    "\n",
    "# Graficando una vez más.\n",
    "fig = plt.subplots(figsize=(16, 8))\n",
    "plt.xlabel(\"Salario bruto mensual [AR$]\") # Renombramos el eje X.\n",
    "plt.ylabel(\"Frecuencia\") # Renombramos el eje Y.\n",
    "#plt.xlim([0,500000])\n",
    "seaborn.histplot(df_clean3['salary_monthly_BRUTO'], bins=20, color='#B87333')\n",
    "plt.show()\n",
    "\n",
    "# Medidas de resumen de los datos.\n",
    "df_clean3[\"salary_monthly_BRUTO\"].describe()"
   ]
  },
  {
   "cell_type": "markdown",
   "id": "9a9d3b49",
   "metadata": {},
   "source": [
    "Se observa que:\n",
    "\n",
    "- N: 6309 datos.\n",
    "- Media: AR\\$ 150.713\n",
    "- Mediana: AR\\$ 140.000\n",
    "- Desviación estándar: AR$ 45.010"
   ]
  },
  {
   "cell_type": "markdown",
   "id": "4d0e26f6",
   "metadata": {},
   "source": [
    "**salary_monthly_NETO**: visualicemos también el histograma y sus medidas de resumen."
   ]
  },
  {
   "cell_type": "code",
   "execution_count": null,
   "id": "002c24c9",
   "metadata": {},
   "outputs": [],
   "source": [
    "# Graficando una vez más.\n",
    "fig = plt.subplots(figsize=(16, 8))\n",
    "plt.xlabel(\"Salario neto mensual [AR$]\") # Renombramos el eje X.\n",
    "plt.ylabel(\"Frecuencia\") # Renombramos el eje Y.\n",
    "#plt.xlim([0,500000])\n",
    "seaborn.histplot(df_clean3['salary_monthly_NETO'], bins=20, color='#B87333')\n",
    "plt.show()\n",
    "\n",
    "# Medidas de resumen de los datos.\n",
    "df_clean3[\"salary_monthly_NETO\"].describe()"
   ]
  },
  {
   "cell_type": "markdown",
   "id": "64054664",
   "metadata": {},
   "source": [
    "Se observa que:\n",
    "\n",
    "- N: 6309 datos.\n",
    "- Media: AR\\$ 113.139\n",
    "- Mediana: AR\\$ 105.000\n",
    "- Desviación estándar: AR$ 30.243\n",
    "\n",
    "Pareciera que hay una dependencia con el salary_monthly_BRUTO ya que en todo es cierto \\% más bajo, veamos qué pasa cuando juntamos ambas columnas."
   ]
  },
  {
   "cell_type": "code",
   "execution_count": null,
   "id": "d94e7302",
   "metadata": {},
   "outputs": [],
   "source": [
    "# Graficamos\n",
    "plt.xlabel(\"Salario neto mensual [AR$]\")\n",
    "plt.ylabel(\"Salario bruto mensual [AR$]\")\n",
    "plt.scatter(df_clean3['salary_monthly_NETO'],df_clean3['salary_monthly_BRUTO'], color='#B87333', alpha=0.15)\n",
    "plt.show()"
   ]
  },
  {
   "cell_type": "markdown",
   "id": "69e1f4f9",
   "metadata": {},
   "source": [
    "Hay algo raro... Nunca el salario bruto puede ser estrictamente más bajo que el salario neto. Borraremos todos los datos que no cumplan esa condición ya que contienen un error (ya sea en el salario neto o el bruto)."
   ]
  },
  {
   "cell_type": "code",
   "execution_count": null,
   "id": "9d6b1c69",
   "metadata": {},
   "outputs": [],
   "source": [
    "# Quitando irregularidades en la relación salario bruto/neto.\n",
    "df_clean4 = df_clean3[df_clean3['salary_monthly_BRUTO'] > df_clean3['salary_monthly_NETO']]\n",
    "\n",
    "# Graficamos\n",
    "plt.xlabel(\"Salario neto mensual [AR$]\")\n",
    "plt.ylabel(\"Salario bruto mensual [AR$]\")\n",
    "plt.scatter(df_clean4['salary_monthly_NETO'],df_clean4['salary_monthly_BRUTO'], color='#B87333', alpha=0.15)\n",
    "plt.show()"
   ]
  },
  {
   "cell_type": "markdown",
   "id": "00343f66",
   "metadata": {},
   "source": [
    "Evidentemente hay cierta proporcionalidad directa entre el salario bruto y el salario neto. Veamos cuál es esta correlación. \n",
    "\n",
    "Para eso vamos a usar la librería **numpy** y sus métodos para calcular:\n",
    "\n",
    "- La matriz de varianza-covarianza **numpy.cov**: La matriz varianza–covarianza es una matriz cuadrada de dimensión nxm que recoge las varianzas en la diagonal principal y las covarianzas en los elementos de fuera de la diagonal principal.\n",
    "- La matriz de correlaciones **numpy.corrcoef**: Muestra el coeficiente de correlación llamado r o la relación entre cada pareja en cada celda, expresada con un número que va desde 0 (no hay correlación) a 1 (correlación perfecta)."
   ]
  },
  {
   "cell_type": "code",
   "execution_count": null,
   "id": "1b502724",
   "metadata": {},
   "outputs": [],
   "source": [
    "# Cálculo de la matriz de covarianza.\n",
    "matcov=np.cov(df_clean4.salary_monthly_BRUTO,df_clean4.salary_monthly_NETO)\n",
    "print('Matriz de varianza-covarianza:')\n",
    "print(\"-----------------------------\")\n",
    "print(\"         BRUTO           NETO\")\n",
    "print(\"BRUTO |\",round(matcov[0,0]),\" \",round(matcov[0,1]),\"|\")\n",
    "print(\"NETO  |\",round(matcov[1,0]),\"  \",round(matcov[1,1]),\"|\")\n",
    "print()\n",
    "print()\n",
    "\n",
    "# Cálculo de la matriz de correlaciones.\n",
    "corr=np.corrcoef(df_clean4.salary_monthly_BRUTO,df_clean4.salary_monthly_NETO)\n",
    "print('Matriz de correlaciones:')\n",
    "print(\"------------------------\")\n",
    "print(\"       BRUTO  NETO\")\n",
    "print(\"BRUTO |\",round(corr[0][0],2),\" \",round(corr[0][1],2),\"|\")\n",
    "print(\"NETO  |\",round(corr[1][0],2),\"\",round(corr[1][1],2),\" |\")\n",
    "print()\n",
    "print('Correlación entra ambas variables: ',round(corr[0,1],2))"
   ]
  },
  {
   "cell_type": "markdown",
   "id": "4fb55440",
   "metadata": {},
   "source": [
    "De la matriz de varianza-covarianza vemos dos cosas:\n",
    "- La varianza del salario bruto es mayor que la del salario neto.\n",
    "- Las covarianzas son mayores a cero, por lo que cuando sube el salario neto también lo hace el bruto (la vuelta también es válida).\n",
    "\n",
    "De la matriz de correlaciones vemos hay una correlación de 0.93 (alta) entre ambas variables.\n"
   ]
  },
  {
   "cell_type": "markdown",
   "id": "472c82f9",
   "metadata": {},
   "source": [
    "**profile_age**: visualicemos también el histograma y sus medidas de resumen. Además veamos cómo se relaciona con, por ejemplo, el salario neto."
   ]
  },
  {
   "cell_type": "code",
   "execution_count": null,
   "id": "2bfcf482",
   "metadata": {},
   "outputs": [],
   "source": [
    "# Graficando una vez más.\n",
    "fig, axs = plt.subplots(1,2, figsize=(16, 8))\n",
    "axs[0].set(xlabel=\"Edad\",ylabel=\"Frecuencia\",title=\"Histograma de edades\")\n",
    "axs[0].hist(df_clean4['profile_age'], bins=15, color='#B87333')\n",
    "axs[1].scatter(df_clean4[\"profile_age\"],df_clean4[\"salary_monthly_NETO\"],color='#B87333', alpha=0.15)\n",
    "axs[1].set(xlabel=\"Edad\",ylabel=\"Salario neto [AR$]\", title=\"Edad vs Sueldo Neto\")\n",
    "plt.show()\n",
    "\n",
    "# Medidas de resumen de los datos.\n",
    "print(df_clean4[\"profile_age\"].describe())"
   ]
  },
  {
   "cell_type": "markdown",
   "id": "6c06dbb7",
   "metadata": {},
   "source": [
    "Se observa que:\n",
    "\n",
    "- N: 6128 datos.\n",
    "- Media: 34 años.\n",
    "- Mediana: 33 años.\n",
    "- Desviación estándar: 7 años.\n",
    "\n",
    "En el gráfico de edad versus salario neto vemos que no hay una correlación aparente (mayor edad mayor sueldo, por ejemplo)."
   ]
  },
  {
   "cell_type": "markdown",
   "id": "53a78d4b",
   "metadata": {},
   "source": [
    "##### Análisis de variables categóricas\n",
    "---\n",
    "\n",
    "**profile_gender** y **programming_language**: veamos las proporciones de cada una de las variables y cómo se relacionan entre sí."
   ]
  },
  {
   "cell_type": "code",
   "execution_count": null,
   "id": "27a6403b",
   "metadata": {},
   "outputs": [],
   "source": [
    "# Generamos un conteo de Hombres, Mujeres y Otros.\n",
    "gender = df_clean4.profile_gender.value_counts().reset_index().rename(columns={'index': 'gender', 'profile_gender': 'frequency'})\n",
    "\n",
    "# Graficamos.\n",
    "sizes = gender['frequency']\n",
    "labels = gender['gender']\n",
    " \n",
    "fig1, ax1 = plt.subplots(figsize=(6, 6))\n",
    "fig1.subplots_adjust(0.3, 0, 1, 1)\n",
    " \n",
    "theme = plt.get_cmap('copper')\n",
    "ax1.set_prop_cycle(\"color\", [theme(1. * i / len(sizes))\n",
    "                             for i in range(len(sizes))])\n",
    "\n",
    "_, _ = ax1.pie(sizes, startangle=90, radius=1800)\n",
    " \n",
    "ax1.axis('equal')\n",
    "\n",
    "ax1.set(title=\"Gráfico de Torta por Género\")\n",
    " \n",
    "total = sum(sizes)\n",
    "plt.legend(\n",
    "    loc='upper left',\n",
    "    labels=['%s, %1.1f%%' % (\n",
    "        l, (float(s) / total) * 100)\n",
    "            for l, s in zip(labels, sizes)],\n",
    "    prop={'size': 11},\n",
    "    bbox_to_anchor=(0.0, 1),\n",
    "    bbox_transform=fig1.transFigure\n",
    ")\n",
    " \n",
    "plt.show()\n",
    "\n",
    "# Generamos un conteo de Hombres, Mujeres y Otros.\n",
    "language = df_clean4.programming_language.value_counts().reset_index().rename(columns={'index': 'language', 'programming_language': 'frequency'})\n",
    "\n",
    "# Graficamos.\n",
    "sizes = language['frequency']\n",
    "labels = language['language']\n",
    " \n",
    "fig1, ax1 = plt.subplots(figsize=(6, 6))\n",
    "fig1.subplots_adjust(0.3, 0, 1, 1)\n",
    " \n",
    "theme = plt.get_cmap('copper')\n",
    "ax1.set_prop_cycle(\"color\", [theme(1. * i / len(sizes))\n",
    "                             for i in range(len(sizes))])\n",
    "\n",
    "_, _ = ax1.pie(sizes, startangle=90, radius=1800)\n",
    " \n",
    "ax1.axis('equal')\n",
    "\n",
    "ax1.set(title=\"Gráfico de Torta por Lenguaje de Programación\")\n",
    " \n",
    "total = sum(sizes)\n",
    "plt.legend(\n",
    "    loc='upper left',\n",
    "    labels=['%s, %1.1f%%' % (\n",
    "        l, (float(s) / total) * 100)\n",
    "            for l, s in zip(labels, sizes)],\n",
    "    prop={'size': 11},\n",
    "    bbox_to_anchor=(0.0, 1),\n",
    "    bbox_transform=fig1.transFigure\n",
    ")\n",
    " \n",
    "plt.show()"
   ]
  },
  {
   "cell_type": "markdown",
   "id": "154b513f",
   "metadata": {},
   "source": [
    "En los gráficos de torta podemos ver como los hombres son el 90\\% de la muestra y que los lenguajes JavaScript, SQL, Java y Python reúnen más del 50% de los casos.\n",
    "\n",
    "De la tabla cruzada entre géneros y lenguajes de programación podemos determinar el numero de hombres y mujeres que emplean cada tipo de lenguaje de programación. Si la normalizamos encontramos la proporción de los casos cruzados (por ejemplo Hombre que utiliza Java tiene un 10,3\\% de probabilidades de ocurrir)."
   ]
  },
  {
   "cell_type": "code",
   "execution_count": null,
   "id": "b070150b",
   "metadata": {},
   "outputs": [],
   "source": [
    "# Creamos una tabla cruzada entre los géneros y los lenguajes de programación.\n",
    "pd.crosstab(df_clean4.profile_gender, df_clean4.programming_language,margins=True, margins_name=\"Total\",dropna=False)"
   ]
  },
  {
   "cell_type": "code",
   "execution_count": null,
   "id": "1b1595f6",
   "metadata": {},
   "outputs": [],
   "source": [
    "# Normalizada.\n",
    "pd.crosstab(df_clean4.profile_gender, df_clean4.programming_language, margins=True, margins_name=\"Total\",normalize=True,dropna=False)"
   ]
  },
  {
   "cell_type": "markdown",
   "id": "1ace286d",
   "metadata": {},
   "source": [
    "De los siguientes **heatmaps** se desprende que:\n",
    "\n",
    "- El lenguaje con el que más programan todos es JavaScript.\n",
    "- El lenguaje con el que menos programan todos es C#."
   ]
  },
  {
   "cell_type": "code",
   "execution_count": null,
   "id": "2d4e4930",
   "metadata": {},
   "outputs": [],
   "source": [
    "fig = plt.figure(figsize=(8,5))\n",
    "exp = pd.crosstab(df_clean4[df_clean4[\"profile_gender\"] == \"Hombre\"].profile_gender,\n",
    "                  df_clean4.programming_language)\n",
    "seaborn.heatmap(exp, annot=True, fmt='g', cmap=\"copper\")\n",
    "plt.xlabel(\"Lenguaje de programación\")\n",
    "plt.ylabel(\"Género\")\n",
    "plt.xticks(rotation=90)\n",
    "plt.yticks(rotation=0)\n",
    "seaborn.despine()\n",
    "plt.show()\n",
    "\n",
    "fig = plt.figure(figsize=(8,5))\n",
    "exp = pd.crosstab(df_clean4[df_clean4[\"profile_gender\"] == \"Mujer\"].profile_gender,\n",
    "                  df_clean4.programming_language)\n",
    "seaborn.heatmap(exp, annot=True, fmt='g', cmap=\"copper\")\n",
    "plt.xlabel(\"Lenguaje de programación\")\n",
    "plt.ylabel(\"Género\")\n",
    "plt.xticks(rotation=90)\n",
    "plt.yticks(rotation=0)\n",
    "seaborn.despine()\n",
    "plt.show()\n",
    "\n",
    "fig = plt.figure(figsize=(8,5))\n",
    "exp = pd.crosstab(df_clean4[df_clean4[\"profile_gender\"] == \"Otros\"].profile_gender,\n",
    "                  df_clean4.programming_language)\n",
    "seaborn.heatmap(exp, annot=True, fmt='g', cmap=\"copper\")\n",
    "plt.xlabel(\"Lenguaje de programación\")\n",
    "plt.ylabel(\"Género\")\n",
    "plt.xticks(rotation=90)\n",
    "plt.yticks(rotation=0)\n",
    "seaborn.despine()\n",
    "plt.show()"
   ]
  },
  {
   "cell_type": "markdown",
   "id": "6bdf5119",
   "metadata": {},
   "source": [
    "#### b) Asociación <a class=\"anchor\" id=\"b\"></a>\n",
    "\n",
    "Necesitamos decidir si sacar o no la columna de salario bruto para hacer la encuesta más simple.\n",
    "¿Existe una correlación entre el salario bruto y el neto? ¿Qué abordaje y medidas usaría?"
   ]
  },
  {
   "cell_type": "markdown",
   "id": "b3332d8b",
   "metadata": {},
   "source": [
    "Tal y como se hizo anteriormente en el punto a) vemos que hay una alta correlación lineal entre salario bruto y neto."
   ]
  },
  {
   "cell_type": "code",
   "execution_count": null,
   "id": "8faa4b41",
   "metadata": {},
   "outputs": [],
   "source": [
    "# Cálculo de la matriz de covarianza.\n",
    "matcov=np.cov(df_clean4.salary_monthly_BRUTO,df_clean4.salary_monthly_NETO)\n",
    "print('Matriz de varianza-covarianza:')\n",
    "print(\"-----------------------------\")\n",
    "print(\"         BRUTO           NETO\")\n",
    "print(\"BRUTO |\",round(matcov[0,0]),\" \",round(matcov[0,1]),\"|\")\n",
    "print(\"NETO  |\",round(matcov[1,0]),\"  \",round(matcov[1,1]),\"|\")\n",
    "print()\n",
    "print()\n",
    "\n",
    "# Cálculo de la matriz de correlaciones.\n",
    "corr=np.corrcoef(df_clean4.salary_monthly_BRUTO,df_clean4.salary_monthly_NETO)\n",
    "print('Matriz de correlaciones:')\n",
    "print(\"------------------------\")\n",
    "print(\"       BRUTO  NETO\")\n",
    "print(\"BRUTO |\",round(corr[0][0],2),\" \",round(corr[0][1],2),\"|\")\n",
    "print(\"NETO  |\",round(corr[1][0],2),\"\",round(corr[1][1],2),\" |\")\n",
    "print()\n",
    "print('Correlación entra ambas variables: ',round(corr[0,1],2))\n",
    "\n",
    "# Graficamos\n",
    "plt.xlabel(\"Salario neto mensual [AR$]\")\n",
    "plt.ylabel(\"Salario bruto mensual [AR$]\")\n",
    "plt.scatter(df_clean4['salary_monthly_NETO'],df_clean4['salary_monthly_BRUTO'], color='#B87333', alpha=0.15)\n",
    "plt.show()"
   ]
  },
  {
   "cell_type": "markdown",
   "id": "f800a8dd",
   "metadata": {},
   "source": [
    "Obtengamos por regresión lineal la relación entre los salarios (usando la librería **numpy**):"
   ]
  },
  {
   "cell_type": "code",
   "execution_count": null,
   "id": "9f12bb62",
   "metadata": {},
   "outputs": [],
   "source": [
    "m, b = np.polyfit(df_clean4[\"salary_monthly_NETO\"], df_clean4[\"salary_monthly_BRUTO\"], 1)\n",
    "\n",
    "# Graficamos\n",
    "plt.xlabel(\"Salario neto mensual [AR$]\")\n",
    "plt.ylabel(\"Salario bruto mensual [AR$]\")\n",
    "plt.scatter(df_clean4['salary_monthly_NETO'],df_clean4['salary_monthly_BRUTO'], color='#B87333', alpha=0.15)\n",
    "plt.plot(df_clean4['salary_monthly_NETO'], m*df_clean4['salary_monthly_NETO']+b, color=\"grey\")\n",
    "plt.show()\n",
    "\n",
    "print(\"Ordenada al origen b:\",round(b,2))\n",
    "print(\"Pendiente m:\",round(m,2))"
   ]
  },
  {
   "cell_type": "markdown",
   "id": "5be701e2",
   "metadata": {},
   "source": [
    "Entonces, la ecuación para obtener el salario bruto a partir del neto es la siguiente:\n",
    "\n",
    "$$\n",
    "Salario Bruto = -7171,61 + 1.41 * Salario Neto\n",
    "$$"
   ]
  },
  {
   "cell_type": "markdown",
   "id": "d385ddee",
   "metadata": {},
   "source": [
    "#### c) Densidad condicional <a class=\"anchor\" id=\"c\"></a>\n",
    "\n",
    "Estudie la distribución del salario según el nivel de estudio.\n",
    "\n",
    "Separe la población según el nivel de estudio (elija dos subpoblaciones numerosas) y grafique de manera comparativa ambos histogramas de la variable `'salary_monthly_NETO'`\n",
    "¿Considera que ambas variables son independientes? ¿Qué analizaría al respecto?\n",
    "\n",
    "Calcule medidas de centralización y dispersión para cada subpoblación."
   ]
  },
  {
   "cell_type": "markdown",
   "id": "219ffcb1",
   "metadata": {},
   "source": [
    "Como primera instancia se realizará una gráfica de torta para estudiar la distribución del nivel de estudio."
   ]
  },
  {
   "cell_type": "code",
   "execution_count": null,
   "id": "3a08cab5",
   "metadata": {},
   "outputs": [],
   "source": [
    "df_clean4.columns"
   ]
  },
  {
   "cell_type": "code",
   "execution_count": null,
   "id": "09969878",
   "metadata": {},
   "outputs": [],
   "source": [
    "studies = df_clean4.profile_studies_level.value_counts().reset_index().rename(columns={'index': 'level', 'profile_studies_level': 'frequency'})\n",
    "\n",
    "# Graficamos.\n",
    "sizes = studies['frequency']\n",
    "labels = studies['level']\n",
    " \n",
    "fig1, ax1 = plt.subplots(figsize=(6, 6))\n",
    "fig1.subplots_adjust(0.3, 0, 1, 1)\n",
    " \n",
    "theme = plt.get_cmap('copper')\n",
    "ax1.set_prop_cycle(\"color\", [theme(1. * i / len(sizes))\n",
    "                             for i in range(len(sizes))])\n",
    "\n",
    "_, _ = ax1.pie(sizes, startangle=90, radius=1800)\n",
    " \n",
    "ax1.axis('equal')\n",
    "\n",
    "ax1.set(title=\"Gráfico de Torta por Nivel de Estudios\")\n",
    " \n",
    "total = sum(sizes)\n",
    "plt.legend(\n",
    "    loc='upper left',\n",
    "    labels=['%s, %1.1f%%' % (\n",
    "        l, (float(s) / total) * 100)\n",
    "            for l, s in zip(labels, sizes)],\n",
    "    prop={'size': 11},\n",
    "    bbox_to_anchor=(0.0, 1),\n",
    "    bbox_transform=fig1.transFigure\n",
    ")\n",
    " \n",
    "plt.show()"
   ]
  },
  {
   "cell_type": "markdown",
   "id": "aef24ec3",
   "metadata": {},
   "source": [
    "Las dos subpoblaciones elegidas son: \n",
    "- Universitarios: 71.6\\%\n",
    "- Terciarios: 16.3\\%\n",
    "\n",
    "A continuación crearemos 2 dataframes con los registros correspondiente a cada sub-población,graficaremos los histogramas correspondientes y calcularemos las medidas de centralización y disperción:"
   ]
  },
  {
   "cell_type": "code",
   "execution_count": null,
   "id": "a838fdd6",
   "metadata": {},
   "outputs": [],
   "source": [
    "# Creación de dataframes.\n",
    "df_u= df_clean4[df_clean4['profile_studies_level']=='Universitario']\n",
    "df_t= df_clean4[df_clean4['profile_studies_level']=='Terciario']\n",
    "\n",
    "# Histogramas!\n",
    "plt.xlabel(\"Salario mensual neto [AR$]\")\n",
    "plt.ylabel(\"Frecuencia\")\n",
    "plt.title(\"Histograma de frecuencias de salario según nivel de estudio\")\n",
    "plt.hist(df_u['salary_monthly_NETO'], color='#B87333', bins=20, range=(80000,240000), label=\"Universitario\" )\n",
    "plt.hist(df_t['salary_monthly_NETO'], color='grey', bins=20, range=(80000,240000), label=\"Terciario\" )\n",
    "plt.legend()\n",
    "plt.show()\n",
    "\n",
    "print(\"Medidas de centralización y dispersión: Universitario\")\n",
    "print(\"-----------------------------------------------------\")\n",
    "print(\"Cantidad de datos:\",df_u['salary_monthly_NETO'].describe().apply(lambda s: '{0:.0f}'.format(s))[0])\n",
    "print(\"Media:\",df_u['salary_monthly_NETO'].describe().apply(lambda s: '{0:.2f}'.format(s))[1])\n",
    "print(\"Mediana:\",df_u['salary_monthly_NETO'].describe().apply(lambda s: '{0:.2f}'.format(s))[5])\n",
    "print(\"Desviación estándar:\",df_u['salary_monthly_NETO'].describe().apply(lambda s: '{0:.2f}'.format(s))[2])\n",
    "print()\n",
    "print()\n",
    "print(\"Medidas de centralización y dispersión: Terciario\")\n",
    "print(\"-------------------------------------------------\")\n",
    "print(\"Cantidad de datos:\",df_t['salary_monthly_NETO'].describe().apply(lambda s: '{0:.0f}'.format(s))[0])\n",
    "print(\"Media:\",df_t['salary_monthly_NETO'].describe().apply(lambda s: '{0:.2f}'.format(s))[1])\n",
    "print(\"Mediana:\",df_t['salary_monthly_NETO'].describe().apply(lambda s: '{0:.2f}'.format(s))[5])\n",
    "print(\"Desviación estándar:\",df_t['salary_monthly_NETO'].describe().apply(lambda s: '{0:.2f}'.format(s))[2])"
   ]
  },
  {
   "cell_type": "markdown",
   "id": "91b05883",
   "metadata": {},
   "source": [
    "Para ver si hay una relación entre el nivel de estudio, la edad y el sueldo neto podemos hacer un gráfico de dispersión con distintos colores."
   ]
  },
  {
   "cell_type": "code",
   "execution_count": null,
   "id": "fe91c332",
   "metadata": {},
   "outputs": [],
   "source": [
    "# Graficamos.\n",
    "plt.title(\"Salario neto vs Edad según nivel de estudio\")\n",
    "plt.xlabel(\"Edad\")\n",
    "plt.ylabel(\"Salario mensual neto [AR$]\")\n",
    "plt.scatter(df_u[\"profile_age\"],df_u[\"salary_monthly_NETO\"],color=\"#B87333\",label=\"Universitario\",alpha=0.25)\n",
    "plt.scatter(df_t[\"profile_age\"],df_t[\"salary_monthly_NETO\"],color=\"grey\",label=\"Terciario\",alpha=0.25)\n",
    "plt.legend()\n",
    "plt.show()"
   ]
  },
  {
   "cell_type": "markdown",
   "id": "5dd609c2",
   "metadata": {},
   "source": [
    "Como no se puede observar una diferencia clara en la nube de puntos vamos a hacer regresión lineal y comparar las rectas:"
   ]
  },
  {
   "cell_type": "code",
   "execution_count": null,
   "id": "173ee83e",
   "metadata": {},
   "outputs": [],
   "source": [
    "m_u, b_u = np.polyfit(df_u[\"profile_age\"], df_u[\"salary_monthly_NETO\"], 1)\n",
    "m_t, b_t = np.polyfit(df_t[\"profile_age\"], df_t[\"salary_monthly_NETO\"], 1)\n",
    "\n",
    "plt.title(\"NETO vs BRUTO según nivel de estudio\")\n",
    "plt.xlabel(\"Edad\")\n",
    "plt.ylabel(\"Salario mensual neto [AR$]\")\n",
    "plt.plot(df_u['profile_age'], m_u*df_u['profile_age']+b_u, color=\"#B87333\",label=\"Universitario\")\n",
    "plt.plot(df_t['profile_age'], m_t*df_t['profile_age']+b_t, color=\"grey\",label=\"Terciario\")\n",
    "plt.legend()\n",
    "plt.show()"
   ]
  },
  {
   "cell_type": "markdown",
   "id": "61603c87",
   "metadata": {},
   "source": [
    "Se puede ver que tener un título universitario ayuda, ligeramente, a tener un mayor sueldo."
   ]
  },
  {
   "cell_type": "markdown",
   "id": "b3aa2058",
   "metadata": {},
   "source": [
    "#### d) Densidad conjunta condicional <a class=\"anchor\" id=\"d\"></a>\n",
    "\n",
    "Elija dos variables numéricas y una categórica. \n",
    "\n",
    "Estudie la dispersión (scatterplot) de las dos variables discriminando en color por la variable categórica (ayuda: hue en seaborn)."
   ]
  },
  {
   "cell_type": "code",
   "execution_count": null,
   "id": "80ca7f8a",
   "metadata": {},
   "outputs": [],
   "source": [
    "plt.figure(figsize=(10,5))\n",
    "seaborn.scatterplot(data=df_clean4, x=\"profile_age\", y=\"salary_monthly_NETO\", hue=\"profile_studies_label\", palette=\"copper\", alpha=0.5)\n",
    "plt.show()"
   ]
  },
  {
   "cell_type": "markdown",
   "id": "2501d85e",
   "metadata": {},
   "source": [
    "Una vez más, por último vamos a exportar el dataframe limpio para usarlo en próximos notebooks."
   ]
  },
  {
   "cell_type": "code",
   "execution_count": null,
   "id": "c754b17c",
   "metadata": {},
   "outputs": [],
   "source": [
    "df_clean4.to_csv(\"clean2.csv\")"
   ]
  }
 ],
 "metadata": {
  "kernelspec": {
   "display_name": "Python 3 (ipykernel)",
   "language": "python",
   "name": "python3"
  },
  "language_info": {
   "codemirror_mode": {
    "name": "ipython",
    "version": 3
   },
   "file_extension": ".py",
   "mimetype": "text/x-python",
   "name": "python",
   "nbconvert_exporter": "python",
   "pygments_lexer": "ipython3",
   "version": "3.9.12"
  }
 },
 "nbformat": 4,
 "nbformat_minor": 5
}
