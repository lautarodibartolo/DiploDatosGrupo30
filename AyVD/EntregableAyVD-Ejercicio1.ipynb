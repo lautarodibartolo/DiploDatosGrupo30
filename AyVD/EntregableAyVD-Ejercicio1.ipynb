{
 "cells": [
  {
   "cell_type": "markdown",
   "id": "b4b6abf7",
   "metadata": {},
   "source": [
    "# Análisis y Visualización de Datos\n",
    "## Trabajo práctico entregable - Grupo 30: Di Bartolo, Madriaga y Tula\n",
    "---\n",
    "\n",
    "### Índice de contenido:\n",
    "* [Librerías externas](#Libs)\n",
    "* [Ejercicio 1 - Análisis descriptivo](#Ejercicio1)\n",
    "    * [Primer tratamiento del dataset](#Tratamiento1)\n",
    "    * [Selección de columnas de interés](#Selección)\n",
    "    * [Análisis de columnas de interés](#Análisis1)\n",
    "    * [Segundo tratamiento del dataset](#Tratamiento2)\n",
    "    * [Análisis de los datos tratados](#Análisis2)\n",
    "    * [Conclusiones](#Conclusiones)"
   ]
  },
  {
   "cell_type": "markdown",
   "id": "9d70d7a9",
   "metadata": {},
   "source": [
    "#### Librerías externas <a class=\"anchor\" id=\"Libs\"></a>\n",
    "---\n",
    "\n",
    "Empezamos cargando librerías que vamos a usar en la resolución del ejercicio."
   ]
  },
  {
   "cell_type": "code",
   "execution_count": null,
   "id": "34559e8c",
   "metadata": {},
   "outputs": [],
   "source": [
    "import matplotlib.pyplot as plt\n",
    "import matplotlib.colors\n",
    "import pandas as pd\n",
    "import seaborn\n",
    "import math\n",
    "\n",
    "# Seteamos que queremos ver todas las columnas cuando mostremos un dataframe.\n",
    "pd.set_option('display.max_columns', None)"
   ]
  },
  {
   "cell_type": "markdown",
   "id": "622d238a",
   "metadata": {},
   "source": [
    "### Ejercicio 1 - Análisis descriptivo <a class=\"anchor\" id=\"Ejercicio1\"></a>\n",
    "\n",
    "A partir del dataset de la encuesta de [Sysarmy en Argentina para el año 2020](https://sysarmy.com/blog/posts/resultados-de-la-encuesta-de-sueldos-2020-2/) responda: **¿Cuáles son los lenguajes de programación asociados a los mejores salarios?**"
   ]
  },
  {
   "cell_type": "markdown",
   "id": "12aa3110",
   "metadata": {},
   "source": [
    "#### Primer tratamiento del dataset <a class=\"anchor\" id=\"Tratamiento1\"></a>\n",
    "---\n",
    "El primer paso para responder la pregunta es descargar los datos y darles un pequeño tratamiento para que tengan el formato deseado. Esto se hizo en un notebook anteriormente, pero igual parece ser importante mencionar los cambios que se hicieron sobre el dataset original:\n",
    "- Se borraron las primeras 8 filas para que la primer fila sea aquella con los nombres de la columna.\n",
    "- Se renombraron las columnas para comodidad en el futuro manejo de datos.\n",
    "\n",
    "El dataset procesado se descarga en formato *csv*. Por comodidad los profesores de la diplomatura lo subieron al servidor de la Universidad, así que desde allí tomaremos los datos."
   ]
  },
  {
   "cell_type": "code",
   "execution_count": null,
   "id": "8e8a9371",
   "metadata": {},
   "outputs": [],
   "source": [
    "# La dirección donde está alojado el data set.\n",
    "url = 'https://cs.famaf.unc.edu.ar/~mteruel/datasets/diplodatos/sysarmy_survey_2020_processed.csv'\n",
    "\n",
    "# Mediante este método pandas lee un archivo de texto con valores separados por comas \n",
    "# y lo transforma en un data frame\n",
    "df = pd.read_csv(url)\n",
    "\n",
    "# Para mostrar los nombres de las columnas y las primeras dos respuestas descomentar lo siguiente.\n",
    "#df[:2]"
   ]
  },
  {
   "cell_type": "markdown",
   "id": "52f64ff9",
   "metadata": {},
   "source": [
    "#### Selección de columnas de interés <a class=\"anchor\" id=\"Selección\"></a>\n",
    "---\n",
    "\n",
    "Los datos que tenemos disponibles para cada respuesta son muy variados, van desde la edad hasta los beneficios extra que tienen en la empresa donde se desempeñan.\n",
    "\n",
    "La pregunta a responder para este ejercicio es sobre qué lenguajes de programación están asociados a los mejores salarios. Un primer enfoque puede ser entonces usar sólo las dos columnas que contienen esta información. Sin embargo, para poder hacer un poco más rico el estudio vamos a considerar también la edad y el género de quien respondió.\n",
    "\n",
    "Entonces, las columnas consideradas relevantes serán:\n",
    "- **profile_gender**: género que autopercibe quien responde la encuesta.\n",
    "- **profile_age**: edad de quien responde la encuesta.\n",
    "- **profile_studies_level**: nivel de estudios alcanzado (que se tenga incompleto, en curso o completo).\n",
    "\n",
    "- **salary_monthly_NETO**: el salario que efectivamente recibe el empleado luego de haber pagado los impuestos.\n",
    "- **tools_programming_languages**: los lenguajes de programación con los que trabaja la persona. Si no los utiliza la respuesta será *Ninguno*, y si son más de uno estarán separados por comas."
   ]
  },
  {
   "cell_type": "markdown",
   "id": "58794f46",
   "metadata": {},
   "source": [
    "#### Análisis de columnas de interés <a class=\"anchor\" id=\"Análisis1\"></a>\n",
    "---\n",
    "\n",
    "Vamos a analizar rápidamente el contenido de cada una de estas columnas. Esto quiere decir que queremos saber aproximadamente qué tipo de respuestas hay, por ejemplo, en **profile_gender**. También se desprenderá si debemos hacer algún tratamiento adicional sobre ellas."
   ]
  },
  {
   "cell_type": "code",
   "execution_count": null,
   "id": "3f6d0e2e",
   "metadata": {},
   "outputs": [],
   "source": [
    "print(\"Las opciones posibles en profile_gender son: \",df['profile_gender'].unique()[0],\", \",df['profile_gender'].unique()[1],\" y \",df['profile_gender'].unique()[2] , \".\\n\",sep=\"\")\n",
    "\n",
    "print(\"Las edad mínima en profile_age es:\",df['profile_age'].min(),\"años.\")\n",
    "print(\"Las edad máxima en profile_age es:\",df['profile_age'].max(),\"años.\")\n",
    "print(\"Las edad máxima (que no es un error de tipeo) en profile_age es:\"\\\n",
    "      ,math.ceil(df['profile_age'].quantile(99.96 / 100)),\"años. \\n\")\n",
    "\n",
    "print(\"Las opciones posibles en profile_studies_level son:\")\n",
    "print(\"\\t -\",df['profile_studies_level'].unique()[6])\n",
    "print(\"\\t -\",df['profile_studies_level'].unique()[1])\n",
    "print(\"\\t -\",df['profile_studies_level'].unique()[3])\n",
    "print(\"\\t -\",df['profile_studies_level'].unique()[0])\n",
    "print(\"\\t -\",df['profile_studies_level'].unique()[2])\n",
    "print(\"\\t -\",df['profile_studies_level'].unique()[4])\n",
    "print(\"\\t -\",df['profile_studies_level'].unique()[5],\"\\n\")\n",
    "\n",
    "print(\"El salario mensual neto en salary_monthly_NETO va desde AR$\", \\\n",
    "      int(df['salary_monthly_NETO'].min()),\"hasta AR$\", int(df['salary_monthly_NETO'].max()), \"\\n\")\n",
    "\n",
    "print(\"Podemos ver que en tools_programming_languages hay una variedad muy grande de respuestas \\\n",
    "    porque son una combinación de respuestas posibles, por ejemplo:\")\n",
    "\n",
    "print(\"\\t -\",df['tools_programming_languages'].unique()[0])\n",
    "print(\"\\t -\",df['tools_programming_languages'].unique()[1])\n",
    "print(\"\\t -\",df['tools_programming_languages'].unique()[2])\n",
    "print(\"\\t -\",df['tools_programming_languages'].unique()[3], \"\\n\")\n",
    "\n",
    "print(\"Tenemos que resolver esto antes de seguir.\")"
   ]
  },
  {
   "cell_type": "markdown",
   "id": "ee19c6e8",
   "metadata": {},
   "source": [
    "Lo primero será entonces separar estos lenguajes de programación separados por comas para poder trabajarlos. Para esto los profesores de la diplomatura nos facilitaron un código que se encarga justamente de eso y nos crea un nuevo dataframe.\n",
    "\n",
    "*Nos tomamos al final una pequeña libertad artística para poder ajustar un tema de los índices del dataframe resultante.*"
   ]
  },
  {
   "cell_type": "code",
   "execution_count": null,
   "id": "a9c63c27",
   "metadata": {},
   "outputs": [],
   "source": [
    "# Columnas que consideramos de interés.\n",
    "relevant_columns = ['profile_gender', 'profile_age', 'profile_studies_level', 'salary_monthly_NETO','salary_monthly_BRUTO', 'tools_programming_languages']\n",
    ",\n",
    "# Esta función convierte los lenguajes de programación separados por comas\n",
    "# en formato string hacia una lista de lenguajes de programación.\n",
    "def split_languages(languages_str):\n",
    "  if not isinstance(languages_str, str):\n",
    "    return []\n",
    "  # Quita la opción ninguno de los anteriores.\n",
    "  languages_str = languages_str.lower()\\\n",
    "    .replace('ninguno de los anteriores', '')\n",
    "  # Separa el string para crear una lista. Les quita los espacios y las comas.\n",
    "  return [lang.strip().replace(',', '')\n",
    "          for lang in languages_str.split()]\n",
    "\n",
    "# Crea una nueva columna con la lista procesada de lenguajes\n",
    "df.loc[:, 'cured_programming_languages'] = df.tools_programming_languages\\\n",
    "    .apply(split_languages)\n",
    "# La agregamos a la lista de columnas relevantes.\n",
    "if 'cured_programming_languages' not in relevant_columns:\n",
    "    relevant_columns.append('cured_programming_languages')\n",
    "\n",
    "# Vamos a tener una fila en el dataframe por cada lenguaje de programación que\n",
    "# maneja cada respuesta.\n",
    "df_lang = df.cured_programming_languages\\\n",
    "    .apply(pd.Series).stack()\\\n",
    "    .reset_index(level=-1, drop=True).to_frame()\\\n",
    "    .join(df[relevant_columns])\\\n",
    "    .rename(columns={0: 'programming_language'})\n",
    "\n",
    "# Acá hacemos unas cositas para solucionar un problema de index que aparece repetido.\n",
    "df_lang = df_lang.reset_index()\n",
    "df_lang = df_lang.drop('index', 1)\n",
    "\n",
    "# Descomentanto la siguiente linea,  vemos las primeras filas de nuestro nuevo dataframe tratado.\n",
    "#df_lang[:5]"
   ]
  },
  {
   "cell_type": "markdown",
   "id": "8ef68aa8",
   "metadata": {},
   "source": [
    "Continuando con el análisis de los lenguajes de programación, si listamos los diferentes tipos de lenguajes de programación vamos a ver que hay 205 opciones distintas. Haciendo uso del [Principio de Pareto](https://es.wikipedia.org/wiki/Principio_de_Pareto), vamos a concentrarnos en los lenguajes que signifiquen el 80% de las respuestas, dejando de lado los casos particulares.\n",
    "\n",
    "Con tan solo 11 lenguajes de programación tenemos más del 80% de las respuestas."
   ]
  },
  {
   "cell_type": "code",
   "execution_count": null,
   "id": "1257d1fa",
   "metadata": {},
   "outputs": [],
   "source": [
    "language_count = df_lang.programming_language.value_counts()\\\n",
    "    .reset_index()\\\n",
    "    .rename(columns={'index': 'language', 'programming_language': 'frequency'})\n",
    "\n",
    "# Cantidad de lenguajes de programación distintos.\n",
    "print(\"Cantidad de distintos lenguajes de programación:\",len(language_count),\"\\n\")\n",
    "\n",
    "# Cantidad de respuestas totales.\n",
    "print(\"Cantidad de respuestas totales:\", len(df_lang),\"\\n\")\n",
    "\n",
    "# 80% de las respuestas totales.\n",
    "print(\"El 80% de las cantidad de respuestas totales es:\", int(0.8*len(df_lang)),\"\\n\")\n",
    "\n",
    "# Inicializamos un contador donde acumularemos las frecuencias.\n",
    "counter = 0\n",
    "# Iniciamos una lista donde pondremos los lenguajes de interés.\n",
    "languages_of_interest = []\n",
    "for i in range(len(language_count)):\n",
    "    # Chequeamos que estamos por debajo del 80% de las respuestas.\n",
    "    if counter <= len(df_lang)*0.8:\n",
    "        # Acumulamos las frecuencias.\n",
    "        counter += language_count['frequency'][i]\n",
    "        # Y ponemos el lenguaje de interés en su lista correspondiente.\n",
    "        languages_of_interest.append(language_count['language'][i])\n",
    "\n",
    "# Cantidad de lenguajes de programación que representan el 80% de las respuestas\n",
    "print(\"Un poco más del 80% de las respuestas (\", counter,\") están representadas por tan solo \", \\\n",
    "      len(languages_of_interest),\" lenguajes de programación.\", sep='')"
   ]
  },
  {
   "cell_type": "markdown",
   "id": "406ff361",
   "metadata": {},
   "source": [
    "Veamos si el caso **Otros** en la columna sobre el género es representativo."
   ]
  },
  {
   "cell_type": "code",
   "execution_count": null,
   "id": "f186fc87",
   "metadata": {},
   "outputs": [],
   "source": [
    "# Inicializamos el contador de los casos Otros\n",
    "countOtros = 0\n",
    "\n",
    "# For loop por el que recorreremos la muestra.\n",
    "for i in range(len(df_lang)):\n",
    "    if df_lang.iloc[i,1] == \"Otros\":\n",
    "        countOtros += 1\n",
    "\n",
    "print(\"La cantidad de respuestas con el género en la opción Otros es:\", countOtros, \"\\n\")\n",
    "print(\"Esto representa un \",round(100*countOtros/len(df_lang),2),\"% de las respuestas.\",sep=\"\")"
   ]
  },
  {
   "cell_type": "markdown",
   "id": "782c79bd",
   "metadata": {},
   "source": [
    "El caso de la respuesta **Otros** es muy raro, con menos del 1% de la representación. A pesar de esto, no vamos a quitarlos para no limitar este análisis a quienes respondieron **Mujer** y **Hombre** e incluir a quienes asumen un género no-binario."
   ]
  },
  {
   "cell_type": "markdown",
   "id": "80113aff",
   "metadata": {},
   "source": [
    "Finalmente, a modo de resumen y para terminar con esta sección de **análisis de columnas de interés**:\n",
    "- **profile_gender**: el género tiene tres opciones (Mujer, Hombre, Otros), pero la última de las opciones representa menos del 1% de los casos. Se tendran en cuenta todas las respuestas.\n",
    "- **profile_age**: la edad va desde los 18 a los 67 años. Hay un caso de alguien que respondió 52000 y deberemos borrar por ser claramente imposible (a menos que sea una [medusa inmortal](https://es.wikipedia.org/wiki/Turritopsis_dohrnii), en tal caso pedimos disculpas).\n",
    "- **profile_studies_level**: el nivel de estudios tiene X opciones (Primario, Secundario, Terciario, Universitario, Posgrado, Doctorado y Posdoctorado).\n",
    "- **salary_monthly_NETO**: el salario tiene un rango muy amplio, va desde un peso hasta más de 2 millones.\n",
    "- **tools_programming_languages**: se encontraron 205 lenguajes de programación diferentes, sin embargo, tan sólo 11 de ellos representan más del 80% de las respuestas totales."
   ]
  },
  {
   "cell_type": "markdown",
   "id": "4778c65a",
   "metadata": {},
   "source": [
    "#### Segundo tratamiento del dataset <a class=\"anchor\" id=\"Tratamiento2\"></a>\n",
    "---\n",
    "\n",
    "Nuestro dataframe (**df_lang**) tiene en este momento:\n",
    "- Lenguajes de programación poco representativos, 194 para ser exactos.\n",
    "- Valores absurdos, como es el caso de nuestra *Medusa Inmortal* de tan solo 52000 años.\n",
    "- Salarios muy bajos y muy altos (outliers) que distorsionan la muestra, aunque esto por ahora es sólo una suposición y deberemos probarlo.\n",
    "\n",
    "Para empezar vamos a crear un nuevo dataframe que sólo contenga las filas que tengan los lenguajes de programación de interés (aquellos 11 lenguajes que demostramos contienen el 80% de las respuestas totales). Para eso vamos a usar el método drop y los índices de las filas que NO tienen los lenguajes que nos importan."
   ]
  },
  {
   "cell_type": "code",
   "execution_count": null,
   "id": "dfe88ef7",
   "metadata": {},
   "outputs": [],
   "source": [
    "# Índices de las filas que no nos importan para nuestro análisis.\n",
    "# Primero creamos una lista vacía que iremos completando con los índices de las filas que NO necesitamos.\n",
    "index = []\n",
    "for i in range(len(df_lang)):\n",
    "    # Hacemos el chequeo de que el lenguaje NO esté en los que nos importa.\n",
    "    if (df_lang.iloc[i,0] not in languages_of_interest):\n",
    "        # Creamos el índice.\n",
    "        index.append(i)\n",
    "        \n",
    "\n",
    "# Hacemos una copia de nuestro dataframe.\n",
    "df_lang_drop = df_lang\n",
    "\n",
    "# Le quitamos las filas innecesarias.\n",
    "df_lang_drop.drop(index, inplace=True)\n",
    "\n",
    "# Acá hacemos unas cositas para solucionar un problema de index que aparece sin algunos valores.\n",
    "df_lang_drop = df_lang_drop.reset_index()\n",
    "df_lang_drop = df_lang_drop.drop('index', 1)\n",
    "\n",
    "# Descomentar la siguiente linea para ver las primeras filas del dataframe.\n",
    "#df_lang_drop.head()"
   ]
  },
  {
   "cell_type": "markdown",
   "id": "236625bc",
   "metadata": {},
   "source": [
    "Ya tenemos sólamente filas por lenguajes de interés.\n",
    "\n",
    "Veamos si el caso de la medusa milenaria sigue estando en nuestro dataframe."
   ]
  },
  {
   "cell_type": "code",
   "execution_count": null,
   "id": "8d5a514f",
   "metadata": {},
   "outputs": [],
   "source": [
    "print(\"Edad máxima en el dataframe: \",df_lang_drop['profile_age'].max())"
   ]
  },
  {
   "cell_type": "markdown",
   "id": "86bbbf46",
   "metadata": {},
   "source": [
    "Si, lamentablemente sigue estando. Vamos a quitarla! **En este grupo no aprobamos la vida infinita**."
   ]
  },
  {
   "cell_type": "code",
   "execution_count": null,
   "id": "15d2a2e4",
   "metadata": {},
   "outputs": [],
   "source": [
    "# Filtramos los casos que tengan más de 100 años.\n",
    "df_lang_drop_age = df_lang_drop[df_lang_drop['profile_age'] <= 100]\n",
    "\n",
    "print(\"Edad máxima en el dataframe: \",df_lang_drop_age['profile_age'].max())"
   ]
  },
  {
   "cell_type": "markdown",
   "id": "f6a8ec14",
   "metadata": {},
   "source": [
    "Ahora es el turno de los salarios!\n",
    "\n",
    "Veamos un histograma de los salarios (sin filtrar por lenguajes) para ver la distribución de los datos. **Si bien hay salarios repetidos porque hay una fila por lenguaje**, nos va a servir para ver en qué lugares cortar para quitar los outliers."
   ]
  },
  {
   "cell_type": "code",
   "execution_count": null,
   "id": "d901eb64",
   "metadata": {},
   "outputs": [],
   "source": [
    "# Graficamos.\n",
    "fig = plt.subplots(figsize=(16, 8))\n",
    "plt.xlim([0,900000]) # Por cuestiones de visualización limitamos el eje X a 900 mil.\n",
    "plt.xlabel(\"Salario neto mensual [AR$]\") # Renombramos el eje X.\n",
    "plt.ylabel(\"Frecuencia\") # Renombraos el eje Y.\n",
    "seaborn.histplot(df_lang_drop_age['salary_monthly_NETO'], bins=100, color='#B87333')\n",
    "plt.show()"
   ]
  },
  {
   "cell_type": "markdown",
   "id": "c2ee3083",
   "metadata": {},
   "source": [
    "A simple vista se ve que los salarios se concentran en un rango de entre 0 y 200,000 pesos argentinos. Vamos a quitar los outliers que ganan más que el 95% de la muestra.\n",
    "\n",
    "El **percentil 95** se escoge iterando y notando que otros percentiles usuales, como el 99 o el 90, tenían poco o mucho efecto, respectivamente, sobre la muestra."
   ]
  },
  {
   "cell_type": "code",
   "execution_count": null,
   "id": "13729dfa",
   "metadata": {},
   "outputs": [],
   "source": [
    "# Filtramos salarios mayores al 95% de las muestras.\n",
    "df_lang_drop_age_filtered = \\\n",
    "    df_lang_drop_age[df_lang_drop_age['salary_monthly_NETO'] < \\\n",
    "                            df_lang_drop_age['salary_monthly_NETO'].quantile(95 / 100)]\n",
    "\n",
    "# Graficamos.\n",
    "fig = plt.subplots(figsize=(16, 8))\n",
    "plt.xlabel(\"Salario neto mensual [AR$]\") # Renombramos el eje X.\n",
    "plt.ylabel(\"Frecuencia\") # Renombraos el eje Y.\n",
    "seaborn.histplot(df_lang_drop_age_filtered['salary_monthly_NETO'], bins=20, color='#B87333')\n",
    "plt.show()"
   ]
  },
  {
   "cell_type": "markdown",
   "id": "10d4ee58",
   "metadata": {},
   "source": [
    "Bien, ahora está más uniforme. Como la pregunta es sobre los lenguajes de programación asociados a los mejores salarios se podría interpretar que los peores salarios no deberíamos considerarlos (y es lo que hacemos). \n",
    "\n",
    "Los peores salarios pueden corresponder a los están por debajo de la media. **Vamos entonces a filtrar una vez más nuestro dataset para sólo tener en consideración aquellos salarios, de los que quedan, que son más altos que el 50%.**"
   ]
  },
  {
   "cell_type": "code",
   "execution_count": null,
   "id": "ee6a91f5",
   "metadata": {},
   "outputs": [],
   "source": [
    "# Filtramos salarios menores al 25% de la muestra.\n",
    "df_lang_drop_age_filtered_2 = \\\n",
    "    df_lang_drop_age_filtered[df_lang_drop_age_filtered['salary_monthly_NETO'] \\\n",
    "                          > df_lang_drop_age_filtered['salary_monthly_NETO'].quantile(50 / 100)]\n",
    "\n",
    "# Graficamos.\n",
    "fig = plt.subplots(figsize=(16, 8))\n",
    "plt.xlabel(\"Salario neto mensual [AR$]\") # Renombramos el eje X.\n",
    "plt.ylabel(\"Frecuencia\") # Renombraos el eje Y.\n",
    "seaborn.histplot(df_lang_drop_age_filtered_2['salary_monthly_NETO'], bins=20, color='#B87333')\n",
    "plt.show()\n",
    "\n",
    "# El nombre quedó bastante complicado. Vamos a simplificarlo!\n",
    "df_clean = df_lang_drop_age_filtered_2\n",
    "\n",
    "# Vamos a restartear el índice para que quede realmente limpio.\n",
    "df_clean = df_clean.reset_index()\n",
    "df_clean = df_clean.drop('index', 1)"
   ]
  },
  {
   "cell_type": "markdown",
   "id": "114a228a",
   "metadata": {},
   "source": [
    "#### Análisis de los datos tratados <a class=\"anchor\" id=\"Análisis2\"></a>\n",
    "---\n",
    "Ahora sí estamos en condiciones de comenzar a hacer un análisis sobre sueldos en función del lenguaje de programación, la edad y el género! \n",
    "\n",
    "Pero para empezar vamos a ver sólamente los sueldos en función del lenguaje de programación. Un gráfico que podemos usar es el **boxenplot**, que es un gráfico de caja y bigotes power que nos da más información.\n",
    "\n",
    "También vamos a generar tablas con los valores exactos de el cuartil 1, 2 (que coincide con la mediana) y 3."
   ]
  },
  {
   "cell_type": "code",
   "execution_count": null,
   "id": "fd088951",
   "metadata": {},
   "outputs": [],
   "source": [
    "#Graficamos!\n",
    "plt.figure(figsize=(16, 8))\n",
    "plt.xlabel(\"Salario neto\")\n",
    "seaborn.boxenplot(data=df_clean, x='salary_monthly_NETO', y='programming_language',\n",
    "                color='#B87333')\n",
    "plt.xlabel(\"Salario neto mensual [AR$]\") # Renombramos el eje X.\n",
    "plt.ylabel(\"Lenguaje de programación\") # Renombraos el eje Y.\n",
    "plt.ticklabel_format(style='plain', axis='x')\n",
    "plt.show()"
   ]
  },
  {
   "cell_type": "code",
   "execution_count": null,
   "id": "85840711",
   "metadata": {},
   "outputs": [],
   "source": [
    "print(\"Salario por lenguaje de programación\")\n",
    "print(\"------------------------------------\\n\")\n",
    "print(\"CUARTIL 1\")\n",
    "print(df_clean[['programming_language','salary_monthly_NETO']].\\\n",
    "      groupby('programming_language').quantile(25 / 100),\"\\n\")\n",
    "print(\"CUARTIL 2\")\n",
    "print(df_clean[['programming_language','salary_monthly_NETO']].\\\n",
    "      groupby('programming_language').quantile(50 / 100),\"\\n\")\n",
    "print(\"CUARTIL 3\")\n",
    "print(df_clean[['programming_language','salary_monthly_NETO']].\\\n",
    "      groupby('programming_language').quantile(75 / 100),\"\\n\")"
   ]
  },
  {
   "cell_type": "markdown",
   "id": "3e6b8d48",
   "metadata": {},
   "source": [
    "Lo primero que notamos es que el gráfico está muy bueno. Después de salir del asombro inicial, podemos notar que de la información que ofrece se desprende que está todo muy parecido. No hay UN lenguaje que se desprenda totalmente del resto para que uno pueda decir quiero (o no quiero) aprenderlo. Sin embargo, Viendo con ayuda de las tablas de los cuartiles podemos decir, por ejemplo:\n",
    "- El salario neto del cuartil 1 más bajo es para el lenguaje **C#**. Esto significa que el 25% que menos gana de los programadores C# gana menos que cualquiera del 75% que más gana de todo el resto de los lenguajes.\n",
    "- La mediana (y el cuartil 1) del salario neto más alto es para el lenguaje **Java**. El más bajo es para **C#**.\n",
    "- En el tercer cuartil **PHP** se corona con el salario más alto, mientras que **C#** vuelve a quedar último."
   ]
  },
  {
   "cell_type": "markdown",
   "id": "e79422be",
   "metadata": {},
   "source": [
    "Para continuar con el análisis de los mejores salarios de este subconjunto (lenguaje y salario, únicamente) vamos a tomar el 25% que más gana y vamos a ver qué porcentaje de este 25% se corresponde con qué lenguaje.\n",
    "\n",
    "Sin embargo, como quizás algunos lenguajes aparecerán más simplemente porque son más usados vamos a dividir la frecuencia en el top 25% por la frecuencia en el 100%."
   ]
  },
  {
   "cell_type": "code",
   "execution_count": null,
   "id": "e0524c6a",
   "metadata": {},
   "outputs": [],
   "source": [
    "# Filtramos una vez más para quedarnos con el 25% que más gana de nuestro conjunto.\n",
    "df_clean_top25 = \\\n",
    "    df_clean[df_clean['salary_monthly_NETO'] \\\n",
    "                            > df_clean['salary_monthly_NETO'].quantile(75 / 100)]\n",
    "\n",
    "# El 25% mejor pago.\n",
    "top25 = df_clean_top25.programming_language.value_counts().reset_index().rename(columns={'index': 'language', 'programming_language': 'frequency'})\n",
    "\n",
    "# Todo el conjunto.\n",
    "top100 = df_clean.programming_language.value_counts().reset_index().rename(columns={'index': 'language', 'programming_language': 'frequency'})\n",
    "\n",
    "# Ordenamos de la misma manera ambos top.\n",
    "top25 = top25.sort_values(by=['language'])\n",
    "top100 = top100.sort_values(by=['language'])\n",
    "\n",
    "top25_normalized = top25\n",
    "top25_normalized['frequency'] = top25['frequency'] / top100['frequency']\n",
    "top25_normalized = top25_normalized.sort_values(by=['frequency'])\n",
    "\n",
    "# Graficamos.\n",
    "sizes = top25_normalized['frequency']\n",
    "labels = top25_normalized['language']\n",
    " \n",
    "fig1, ax1 = plt.subplots(figsize=(8, 8))\n",
    "fig1.subplots_adjust(0.3, 0, 1, 1)\n",
    " \n",
    "theme = plt.get_cmap('copper')\n",
    "ax1.set_prop_cycle(\"color\", [theme(1. * i / len(sizes))\n",
    "                             for i in range(len(sizes))])\n",
    "\n",
    "_, _ = ax1.pie(sizes, startangle=90, radius=1800)\n",
    " \n",
    "ax1.axis('equal')\n",
    " \n",
    "total = sum(sizes)\n",
    "plt.legend(\n",
    "    loc='upper left',\n",
    "    labels=['%s, %1.1f%%' % (\n",
    "        l, (float(s) / total) * 100)\n",
    "            for l, s in zip(labels, sizes)],\n",
    "    prop={'size': 11},\n",
    "    bbox_to_anchor=(0.0, 1),\n",
    "    bbox_transform=fig1.transFigure\n",
    ")\n",
    " \n",
    "plt.show()"
   ]
  },
  {
   "cell_type": "markdown",
   "id": "dd9ac96c",
   "metadata": {},
   "source": [
    "De esta manera el lenguaje que más participación tiene en el top 25%, en función a la participación total, es **PHP**, seguido por **TypeScript** y **Java**. **C#** vuelve a quedar en último lugar.\n",
    "\n",
    "Ahora veamos el efecto de ser hombre, mujer o no-binario sobre los salarios que percibe cada lenguaje de programación. También veamos el porcentaje que representa cada uno de los géneros sobre el total."
   ]
  },
  {
   "cell_type": "code",
   "execution_count": null,
   "id": "e3e0e089",
   "metadata": {},
   "outputs": [],
   "source": [
    "# Graficamos!\n",
    "plt.figure(figsize=(16, 8))\n",
    "plt.xlabel(\"Salario neto\")\n",
    "seaborn.boxenplot(data=df_clean, x='salary_monthly_NETO', y='programming_language', \\\n",
    "                  hue='profile_gender', palette=\"copper\")\n",
    "plt.xlabel(\"Salario neto mensual [AR$]\") # Renombramos el eje X.\n",
    "plt.ylabel(\"Lenguaje de programación\") # Renombraos el eje Y.\n",
    "plt.ticklabel_format(style='plain', axis='x')\n",
    "\n",
    "# Graficamos.\n",
    "gender_freq = df_clean['profile_gender'].value_counts()\n",
    "\n",
    "sizes = [gender_freq[0],gender_freq[1],gender_freq[2]]\n",
    "labels = df_clean['profile_gender'].unique()\n",
    " \n",
    "fig1, ax1 = plt.subplots(figsize=(8, 8))\n",
    "fig1.subplots_adjust(0.3, 0, 1, 1)\n",
    " \n",
    "theme = plt.get_cmap('copper')\n",
    "ax1.set_prop_cycle(\"color\", [theme(1. * i / len(sizes))\n",
    "                             for i in range(len(sizes))])\n",
    "\n",
    "_, _ = ax1.pie(sizes, startangle=90, radius=1800)\n",
    " \n",
    "ax1.axis('equal')\n",
    " \n",
    "total = sum(sizes)\n",
    "plt.legend(\n",
    "    loc='upper left',\n",
    "    labels=['%s, %1.1f%%' % (\n",
    "        l, (float(s) / total) * 100)\n",
    "            for l, s in zip(labels, sizes)],\n",
    "    prop={'size': 11},\n",
    "    bbox_to_anchor=(0.0, 1),\n",
    "    bbox_transform=fig1.transFigure\n",
    ")\n",
    " \n",
    "plt.show()"
   ]
  },
  {
   "cell_type": "markdown",
   "id": "3aec476c",
   "metadata": {},
   "source": [
    "De los 11 lenguajes de programación, en 8 de ellos la mediana del salario de los hombres es mayor a la mediana del salario de las mujeres. Además, las mujeres son menos del 10% de la muestra. De todos modos, la mediana del salario más alto corresponde al lenguaje **Java** y el género **Mujer**.\n",
    "\n",
    "Quienes se identifican como **no-binarios** no están presentes en todos los lenguajes de programación, pero en los que están solo en uno de ellos tienen una mediana de salario más baja que sus contrapartes que se identifican como Hombres o Mujeres.\n",
    "\n",
    "Veamos ahora cómo se distribuye esto sólo teniendo en cuenta al 25% que más gana."
   ]
  },
  {
   "cell_type": "code",
   "execution_count": null,
   "id": "c5b11949",
   "metadata": {},
   "outputs": [],
   "source": [
    "# Graficamos!\n",
    "plt.figure(figsize=(16, 8))\n",
    "plt.xlabel(\"Salario neto\")\n",
    "seaborn.boxenplot(data=df_clean_top25, x='salary_monthly_NETO', y='programming_language', \\\n",
    "                  hue='profile_gender', palette=\"copper\")\n",
    "plt.xlabel(\"Salario neto mensual [AR$]\") # Renombramos el eje X.\n",
    "plt.ylabel(\"Lenguaje de programación\") # Renombraos el eje Y.\n",
    "plt.ticklabel_format(style='plain', axis='x')\n",
    "\n",
    "# Graficamos.\n",
    "gender_freq = df_clean_top25['profile_gender'].value_counts()\n",
    "\n",
    "sizes = [gender_freq[0],gender_freq[1],gender_freq[2]]\n",
    "labels = df_clean_top25['profile_gender'].unique()\n",
    " \n",
    "fig1, ax1 = plt.subplots(figsize=(8, 8))\n",
    "fig1.subplots_adjust(0.3, 0, 1, 1)\n",
    " \n",
    "theme = plt.get_cmap('copper')\n",
    "ax1.set_prop_cycle(\"color\", [theme(1. * i / len(sizes))\n",
    "                             for i in range(len(sizes))])\n",
    "\n",
    "_, _ = ax1.pie(sizes, startangle=90, radius=1800)\n",
    " \n",
    "ax1.axis('equal')\n",
    " \n",
    "total = sum(sizes)\n",
    "plt.legend(\n",
    "    loc='upper left',\n",
    "    labels=['%s, %1.1f%%' % (\n",
    "        l, (float(s) / total) * 100)\n",
    "            for l, s in zip(labels, sizes)],\n",
    "    prop={'size': 11},\n",
    "    bbox_to_anchor=(0.0, 1),\n",
    "    bbox_transform=fig1.transFigure\n",
    ")\n",
    " \n",
    "plt.show()"
   ]
  },
  {
   "cell_type": "markdown",
   "id": "5e1e4c0c",
   "metadata": {},
   "source": [
    "En el top 25% que más gana la fracción de mujeres que hay se reduce. Además la mediana de los salarios de los hombres es superior al de las mujeres en 10 de 11 lenguajes de programación. En este caso la mediana más alta corresponde a los **Hombres** que trabajan con **JavaScript** y **TypeScript**\n",
    "\n",
    "Quienes respondieron que su género no era ni Hombre ni Mujer tienen aún menos participación en el análisis del top 25%, sólo estando presentes en 4 de 11 lenguajes de programación y con muy pocos datos.\n",
    "\n",
    "Ahora vamos a ver cómo las edades de las personas que respondieron la encuesta afectan el lenguaje de programación y su salario mensual neto. Dividiremos las edades en bloques de la siguiente manera:\n",
    "- Entre 18 y 25 años: **18-25**.\n",
    "- Entre 26 y 35 años: **26-35**.\n",
    "- Entre 36 y 50 años: **36-50**.\n",
    "- Mayores de 51 años: **51-67**."
   ]
  },
  {
   "cell_type": "code",
   "execution_count": null,
   "id": "8268f0c4",
   "metadata": {},
   "outputs": [],
   "source": [
    "# Primero tenemos que escribir una función que a partir de profile_age obtenga el\n",
    "# profile_age_label que vamos a utilizar.\n",
    "def labeling(row):\n",
    "    if row['profile_age'] <= 25:\n",
    "        return \"18-25\"\n",
    "    elif row['profile_age'] <= 35:\n",
    "        return \"26-35\"\n",
    "    elif row['profile_age'] <= 50:\n",
    "        return \"36-50\"\n",
    "    else:\n",
    "        return \"51-67\"\n",
    "    \n",
    "# Aplicamos esto a nuestro dataframe.\n",
    "df_clean['profile_age_label'] = df_clean.apply(lambda row: labeling(row), axis=1)\n",
    "df_clean = df_clean.sort_values(by=['profile_age_label'])\n",
    "\n",
    "# Graficamos!\n",
    "plt.figure(figsize=(16, 16))\n",
    "plt.xlabel(\"Salario neto\")\n",
    "seaborn.boxenplot(data=df_clean, x='salary_monthly_NETO', y='programming_language', \\\n",
    "                  hue='profile_age_label', palette=\"copper\")\n",
    "plt.xlabel(\"Salario neto mensual [AR$]\") # Renombramos el eje X.\n",
    "plt.ylabel(\"Lenguaje de programación\") # Renombraos el eje Y.\n",
    "plt.ticklabel_format(style='plain', axis='x')\n",
    "plt.legend(loc='right')\n",
    "plt.show()"
   ]
  },
  {
   "cell_type": "markdown",
   "id": "e626ed76",
   "metadata": {},
   "source": [
    "Que parece más complicado de interpretar que los anteriores pero que básicamente dice que para la mayoría de los lenguajes de programación el aumento en la edad significa un aumento en el sueldo. \n",
    "\n",
    "En 8 de los 11 casos tener más de 51 años tiene un efecto contrario, pero hasta los 50 años el efecto es acumulativo, esto puede llegar a deberse a que quienes tienen más de 51 años no programan en los lenguajes más populares de la actualidad (con los que se confeccionó esta tabla \"limpia\" siguiendo el Principio de Pareto).\n",
    "\n",
    "De este gráfico se puede extraer información sobre qué lenguaje es más redituable dependiendo del rango etario:\n",
    "- 18-25: **.Net**.\n",
    "- 26-35: **Java**.\n",
    "- 36-50: **TypeScript**.\n",
    "- 51-67: **Python**."
   ]
  },
  {
   "cell_type": "markdown",
   "id": "a8788117",
   "metadata": {},
   "source": [
    "Finalmente vamos a analizar la relacióne entre el nivel de estudios alcanzados, el lenguaje de programación y el salario neto.\n",
    "\n",
    "Para esto lo primero que vamos a hacer es reducir las opciones de **profile_studies_level** de 7 a 3:\n",
    "- 1: Primario - Secundario - Terciario\n",
    "- 2: Universitario - Posgrado\n",
    "- 3: Doctorado - Posdoctorado"
   ]
  },
  {
   "cell_type": "code",
   "execution_count": null,
   "id": "a6ade6ed",
   "metadata": {},
   "outputs": [],
   "source": [
    "# Primero tenemos que escribir una función que a partir de profile_studies_level obtenga el\n",
    "# profile_studies_label que vamos a utilizar.\n",
    "def labeling(row):\n",
    "    if (row['profile_studies_level'] == \"Primario\") or (row['profile_studies_level'] == \"Secundario\") or (row['profile_studies_level'] == \"Terciario\"):\n",
    "        return \"1: Primario - Secundario - Terciario\"\n",
    "    elif (row['profile_studies_level'] == \"Universitario\") or (row['profile_studies_level'] == \"Posgrado\"):\n",
    "        return \"2: Universitario - Posgrado\"\n",
    "    else:\n",
    "        return \"3: Doctorado - Posdoctorado\"\n",
    "    \n",
    "# Aplicamos esto a nuestro dataframe.\n",
    "df_clean['profile_studies_label'] = df_clean.apply(lambda row: labeling(row), axis=1)\n",
    "df_clean = df_clean.sort_values(by=['profile_studies_label'])\n",
    "\n",
    "# Graficamos!\n",
    "plt.figure(figsize=(16, 16))\n",
    "plt.xlabel(\"Salario neto\")\n",
    "seaborn.boxenplot(data=df_clean, x='salary_monthly_NETO', y='programming_language', \\\n",
    "                  hue='profile_studies_label', palette=\"copper\")\n",
    "plt.xlabel(\"Salario neto mensual [AR$]\") # Renombramos el eje X.\n",
    "plt.ylabel(\"Lenguaje de programación\") # Renombraos el eje Y.\n",
    "plt.ticklabel_format(style='plain', axis='x')\n",
    "plt.legend(loc='right')\n",
    "plt.show()"
   ]
  },
  {
   "cell_type": "markdown",
   "id": "052c13e0",
   "metadata": {},
   "source": [
    "En 8 de 11 lenguajes de programación haber hecho estudios Universitarios o de Posgrado tiene un efecto positivo en el los ingresos netos. En los otros 3, es indiferente. Los casos de Doctorados o Posdoctorados son pocos y no están presentes en todos los casos. No se puede ver una tendencia clara sobre el efecto en los salarios, ya que hay casos donde ganan más, lo mismo o incluso menos que quienes no se doctoraron."
   ]
  },
  {
   "cell_type": "markdown",
   "id": "4ab7cf0b",
   "metadata": {},
   "source": [
    "#### Conclusiones <a class=\"anchor\" id=\"Conclusiones\"></a>\n",
    "---\n",
    "Viendo los datos tratados, simplemente contrastando lenguaje contra el salario podemos decir que no hay UN lenguaje que se desprenda totalmente del resto para que uno pueda decir quiero (o no quiero) aprenderlo. De todos modos podemos decir:\n",
    "- El salario neto del cuartil 1 más bajo es para el lenguaje C#. Esto significa que el 25% que menos gana de los programadores C# gana menos que cualquiera del 75% que más gana de todo el resto de los lenguajes.\n",
    "- La mediana (y el cuartil 1) del salario neto más alto es para el lenguaje Java. El más bajo es para C#.\n",
    "- En el tercer cuartil PHP se corona con el salario más alto, mientras que C# vuelve a quedar último.\n",
    "\n",
    "Analizando el último cuartil de los salarios el lenguaje que más participación tiene (en relación a su participación total) es **PHP**, seguido por **TypeScript** y **Java**. **C#** vuelve a quedar en último lugar.\n",
    "\n",
    "Sumando el género de los participantes vemos que de los 11 lenguajes de programación, en 8 de ellos la mediana del salario de los hombres es mayor a la mediana del salario de las mujeres. Además, las mujeres son menos del 10% de la muestra. De todos modos, la mediana del salario más alto corresponde al lenguaje **Java** y el género **Mujer**. Quienes se identifican como no-binarios no están presentes en todos los lenguajes de programación, pero en los que están solo en uno de ellos tienen una mediana de salario más baja que sus contrapartes que se identifican como Hombres o Mujeres.\n",
    "\n",
    "En el último cuartil, la fracción de mujeres que hay se reduce. Además la mediana de los salarios de los hombres es superior al de las mujeres en 10 de 11 lenguajes de programación. En este caso la mediana más alta corresponde a los **Hombres** que trabajan con **JavaScript** y **TypeScript**. Quienes respondieron que su género no era ni Hombre ni Mujer tienen aún menos participación en el análisis del top 25%, sólo estando presentes en 4 de 11 lenguajes de programación y con muy pocos datos.\n",
    "\n",
    "Luego, si contemplamos, además del lenguaje de programación, a la edad para la mayoría de los lenguajes de programación el aumento en la edad significa un aumento en el sueldo.\n",
    "En 8 de los 11 casos tener más de 51 años tiene un efecto contrario dentro de la tendencia, pero hasta los 50 años el efecto es acumulativo. Esto puede llegar a deberse a que quienes tienen más de 51 años no programan en los lenguajes más populares de la actualidad (con los que se confeccionó esta tabla \"limpia\" siguiendo el Principio de Pareto).\n",
    "\n",
    "Se puede extraer información sobre qué lenguaje es más redituable dependiendo del rango etario:\n",
    "- 18-25: .Net.\n",
    "- 26-35: Java.\n",
    "- 36-50: TypeScript.\n",
    "- 51-67: Python.\n",
    "\n",
    "Finalmente, en 8 de 11 lenguajes de programación haber hecho estudios Universitarios o de Posgrado tiene un efecto positivo en el los ingresos netos. En los otros 3, es indiferente. Los casos de Doctorados o Posdoctorados son pocos y no están presentes en todos los casos. No se puede ver una tendencia clara sobre el efecto en los salarios, ya que hay casos donde ganan más, lo mismo o incluso menos que quienes no se doctoraron."
   ]
  },
  {
   "cell_type": "markdown",
   "id": "5c473590",
   "metadata": {},
   "source": [
    "Por último, vamos a exportar el dataframe limpio para poder usarlo en los próximos notebooks."
   ]
  },
  {
   "cell_type": "code",
   "execution_count": null,
   "id": "620b68ec",
   "metadata": {},
   "outputs": [],
   "source": [
    "df_clean.to_csv(\"clean.csv\")"
   ]
  }
 ],
 "metadata": {
  "kernelspec": {
   "display_name": "Python 3 (ipykernel)",
   "language": "python",
   "name": "python3"
  },
  "language_info": {
   "codemirror_mode": {
    "name": "ipython",
    "version": 3
   },
   "file_extension": ".py",
   "mimetype": "text/x-python",
   "name": "python",
   "nbconvert_exporter": "python",
   "pygments_lexer": "ipython3",
   "version": "3.9.12"
  }
 },
 "nbformat": 4,
 "nbformat_minor": 5
}
